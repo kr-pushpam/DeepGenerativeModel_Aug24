{
  "nbformat": 4,
  "nbformat_minor": 0,
  "metadata": {
    "colab": {
      "provenance": []
    },
    "kernelspec": {
      "name": "python3",
      "display_name": "Python 3"
    },
    "language_info": {
      "name": "python"
    }
  },
  "cells": [
    {
      "cell_type": "markdown",
      "source": [
        "# PyTorch Basics for Deep Learning\n",
        "\n",
        "## Introduction to PyTorch\n",
        "PyTorch is an open-source deep learning library developed by Facebook's AI Research lab. It allows us to implement and train neural networks that can be deployed in multiple deep learning applications.\n",
        "\n",
        "\n",
        "## Importing PyTorch"
      ],
      "metadata": {
        "id": "oecBF3nQlZdm"
      }
    },
    {
      "cell_type": "code",
      "source": [
        "import torch\n",
        "import torch.nn as nn # For neural networks\n",
        "import torch.optim as optim # For optimizers\n",
        "import torch.nn.functional as F # For activation functions\n",
        "from torch.utils.data import DataLoader, TensorDataset # For dataset preparation\n"
      ],
      "metadata": {
        "id": "sA3wXRf6l9-7"
      },
      "execution_count": 1,
      "outputs": []
    },
    {
      "cell_type": "markdown",
      "source": [
        "## Tensors in PyTorch\n",
        "Tensors are the fundamental building blocks of PyTorch. They are similar to NumPy arrays but can be used on GPUs for acceleration."
      ],
      "metadata": {
        "id": "8U8NoiRCmDEy"
      }
    },
    {
      "cell_type": "code",
      "source": [
        "# Creating a tensor\n",
        "x = torch.tensor([[1, 2], [3, 4]], dtype=torch.float32)\n",
        "print(x)\n",
        "\n",
        "# Tensor with random values\n",
        "x_random = torch.rand(2, 2)\n",
        "print(x_random)\n",
        "\n",
        "# Checking the shape and type of a tensor\n",
        "print(x.shape, x.dtype)\n"
      ],
      "metadata": {
        "colab": {
          "base_uri": "https://localhost:8080/"
        },
        "id": "qEUr21FzmNMc",
        "outputId": "cdfbf8f9-38de-48f5-f46a-8a398b358ee0"
      },
      "execution_count": 2,
      "outputs": [
        {
          "output_type": "stream",
          "name": "stdout",
          "text": [
            "tensor([[1., 2.],\n",
            "        [3., 4.]])\n",
            "tensor([[0.2781, 0.3864],\n",
            "        [0.2432, 0.1425]])\n",
            "torch.Size([2, 2]) torch.float32\n"
          ]
        }
      ]
    },
    {
      "cell_type": "markdown",
      "source": [
        "## Autograd: Automatic Differentiation\n",
        "PyTorch's autograd module automatically calculates gradients for backpropagation. It keeps track of operations on tensors to compute derivatives."
      ],
      "metadata": {
        "id": "cLSCtuc0mQFD"
      }
    },
    {
      "cell_type": "code",
      "source": [
        "# Create a tensor with requires_grad=True to track computations\n",
        "x = torch.tensor([[2.0, 3.0]], requires_grad=True) # Input\n",
        "\n",
        "# Perform some operations\n",
        "y = 3 * x ** 2 + 2 # Output of shape (1,2)\n",
        "\n",
        "# Compute the sum and call backward to compute gradients\n",
        "z = y.sum() # Function of the output (function is a scalar)\n",
        "z.backward() # Backpropagation\n",
        "\n",
        "print(z.dtype, type(z))\n",
        "\n",
        "# Check the gradients\n",
        "print(x.grad)\n"
      ],
      "metadata": {
        "colab": {
          "base_uri": "https://localhost:8080/"
        },
        "id": "A1Xyp2fFmSx3",
        "outputId": "3c0445b5-666c-4125-eeee-5ab73f2bf978"
      },
      "execution_count": 11,
      "outputs": [
        {
          "output_type": "stream",
          "name": "stdout",
          "text": [
            "torch.float32 <class 'torch.Tensor'>\n",
            "tensor([[12., 18.]])\n"
          ]
        }
      ]
    },
    {
      "cell_type": "markdown",
      "source": [
        "# Building a Simple Neural Network\n",
        "PyTorch offers two ways to define models: using the sequential API or by using the ```nn.Module``` subclass.\n",
        "\n",
        "Using ```nn.Sequential```:"
      ],
      "metadata": {
        "id": "bAf9noCpmU8O"
      }
    },
    {
      "cell_type": "code",
      "source": [
        "model = nn.Sequential(\n",
        "    nn.Linear(2, 4), # Fully connected layer with 2 input nodes and 4 output nodes\n",
        "    nn.ReLU(), # Activation function (passes the output if it is positive)\n",
        "    nn.Linear(4, 1) # 4 input nodes and 1 output node (final output)\n",
        ")\n",
        "\n",
        "# Sample input tensor\n",
        "sample_input = torch.rand((1, 2))\n",
        "output = model(sample_input)\n",
        "print(output)\n"
      ],
      "metadata": {
        "colab": {
          "base_uri": "https://localhost:8080/"
        },
        "id": "vatgMAdsmbtJ",
        "outputId": "2ef90cfe-8b14-4281-e40c-35c7d4d55d29"
      },
      "execution_count": 12,
      "outputs": [
        {
          "output_type": "stream",
          "name": "stdout",
          "text": [
            "tensor([[-0.0508]], grad_fn=<AddmmBackward0>)\n"
          ]
        }
      ]
    },
    {
      "cell_type": "markdown",
      "source": [
        "Custom Model using ```nn.Module```:"
      ],
      "metadata": {
        "id": "iSD8OvbxmdGb"
      }
    },
    {
      "cell_type": "code",
      "source": [
        "class SimpleNN(nn.Module):\n",
        "    def __init__(self):\n",
        "        super(SimpleNN, self).__init__()\n",
        "        self.fc1 = nn.Linear(2, 4)\n",
        "        self.fc2 = nn.Linear(4, 1)\n",
        "\n",
        "    def forward(self, x):\n",
        "        x = F.relu(self.fc1(x)) # output of layer 1\n",
        "        x = self.fc2(x) # final output\n",
        "        return x\n",
        "\n",
        "# Initialize the model\n",
        "model = SimpleNN()\n",
        "output = model(sample_input) # Calls forward automatically\n",
        "print(model)\n",
        "print(output) # output\n"
      ],
      "metadata": {
        "colab": {
          "base_uri": "https://localhost:8080/"
        },
        "id": "uZYiRemdmhm7",
        "outputId": "bef52f79-dfc1-4eb4-d276-ca7208f04ae8"
      },
      "execution_count": 13,
      "outputs": [
        {
          "output_type": "stream",
          "name": "stdout",
          "text": [
            "SimpleNN(\n",
            "  (fc1): Linear(in_features=2, out_features=4, bias=True)\n",
            "  (fc2): Linear(in_features=4, out_features=1, bias=True)\n",
            ")\n",
            "tensor([[-0.1162]], grad_fn=<AddmmBackward0>)\n"
          ]
        }
      ]
    },
    {
      "cell_type": "markdown",
      "source": [
        "## 6. Loss Functions and Optimizers\n",
        "Loss functions and optimizers are essential for training neural networks."
      ],
      "metadata": {
        "id": "gWvq1Jr7mmI5"
      }
    },
    {
      "cell_type": "code",
      "source": [
        "# Define the Mean Squared Error loss function\n",
        "loss_fn = nn.MSELoss()\n",
        "\n",
        "# Define an optimizer (Stochastic Gradient Descent)\n",
        "optimizer = optim.SGD(model.parameters(), lr=0.0001)\n",
        "\n",
        "# Example forward pass and loss calculation\n",
        "target = torch.tensor([1.0])  # Example target, ground truth\n",
        "loss = loss_fn(output, target) # Loss function\n",
        "print(f\"Loss: {loss.item()}\")\n",
        "\n",
        "# Perform backward pass and update weights\n",
        "optimizer.zero_grad()  # Zero the gradients\n",
        "loss.backward()  # Backpropagate\n",
        "optimizer.step()  # Update the parameters\n"
      ],
      "metadata": {
        "id": "6rVQCgfJmpiQ"
      },
      "execution_count": null,
      "outputs": []
    },
    {
      "cell_type": "markdown",
      "source": [
        "## Training a Simple Model\n",
        "Let's use the concepts above to train a simple neural network. The first step is to prepare our data. In this simple example, we will not use a dataloader, and instead randomly generate training and validation datasets."
      ],
      "metadata": {
        "id": "slGl1M4hm15A"
      }
    },
    {
      "cell_type": "code",
      "source": [
        "# Generate some dummy data\n",
        "inputs = torch.rand((1000, 2)) # input feature vectors each of size (1,2)\n",
        "targets = torch.rand((1000, 1)) # ground truth\n",
        "\n",
        "# Split the data into training and validation sets\n",
        "train_inputs, val_inputs = inputs[:800], inputs[800:] # 80% of the data is for training and 20% for validation\n",
        "train_targets, val_targets = targets[:800], targets[800:]\n",
        "\n",
        "# Create datasets and data loaders for training and validation\n",
        "train_dataset = TensorDataset(train_inputs, train_targets) # train dataset collected\n",
        "val_dataset = TensorDataset(val_inputs, val_targets)\n",
        "\n",
        "train_dataloader = DataLoader(train_dataset, batch_size=10, shuffle=True) # Here, we can define the batch size and other parameters\n",
        "val_dataloader = DataLoader(val_dataset, batch_size=10, shuffle=False)"
      ],
      "metadata": {
        "id": "WswFp1qEJsxb"
      },
      "execution_count": null,
      "outputs": []
    },
    {
      "cell_type": "markdown",
      "source": [
        "Now that we have prepared some dummy datasets, let's train the neural network that we previously defined as ```SimpleNN```."
      ],
      "metadata": {
        "id": "TBD3484OJ88r"
      }
    },
    {
      "cell_type": "code",
      "source": [
        "from matplotlib import pyplot # To plot our training and validation losses\n",
        "\n",
        "train_losses = []\n",
        "val_losses = []\n",
        "\n",
        "# Training loop with validation\n",
        "for epoch in range(100):\n",
        "    model.train()  # Set the model to training mode\n",
        "\n",
        "    # Training phase\n",
        "    for batch_inputs, batch_targets in train_dataloader:\n",
        "        # Forward pass\n",
        "        predictions = model(batch_inputs) # output for the input batch\n",
        "        loss = loss_fn(predictions, batch_targets)\n",
        "\n",
        "        # Backward pass and optimization (happens every iteration)\n",
        "        optimizer.zero_grad()\n",
        "        loss.backward()\n",
        "        optimizer.step()\n",
        "\n",
        "    # Validation phase happens at the end of every epoch\n",
        "    model.eval()  # Set the model to evaluation mode\n",
        "    val_loss = 0.0\n",
        "    with torch.no_grad():  # No need to compute gradients during validation\n",
        "        for val_inputs, val_targets in val_dataloader:\n",
        "            val_predictions = model(val_inputs)\n",
        "            val_loss += loss_fn(val_predictions, val_targets).item()\n",
        "\n",
        "    val_loss /= len(val_dataloader)  # Average validation loss\n",
        "\n",
        "    print(f\"Epoch {epoch+1}, Training Loss: {loss.item()}, Validation Loss: {val_loss:.4f}\")\n",
        "    train_losses.append(loss.item())\n",
        "    val_losses.append(val_loss)\n",
        "\n",
        "# Plotting the losses\n",
        "pyplot.plot(list(range(100)), train_losses)\n",
        "pyplot.plot(list(range(100)), val_losses)\n",
        "pyplot.xlabel('Epoch')\n",
        "pyplot.ylabel('Loss')\n",
        "pyplot.legend(['Training loss', 'Validation loss'])"
      ],
      "metadata": {
        "colab": {
          "base_uri": "https://localhost:8080/",
          "height": 1000
        },
        "id": "aMsk7_xRm2yh",
        "outputId": "0337752f-a04e-43f7-ae75-1c88d3b489d1"
      },
      "execution_count": null,
      "outputs": [
        {
          "output_type": "stream",
          "name": "stdout",
          "text": [
            "Epoch 1, Training Loss: 0.16636236011981964, Validation Loss: 0.2891\n",
            "Epoch 2, Training Loss: 0.30045515298843384, Validation Loss: 0.2811\n",
            "Epoch 3, Training Loss: 0.2729916572570801, Validation Loss: 0.2735\n",
            "Epoch 4, Training Loss: 0.19974730908870697, Validation Loss: 0.2662\n",
            "Epoch 5, Training Loss: 0.21829047799110413, Validation Loss: 0.2592\n",
            "Epoch 6, Training Loss: 0.2131294310092926, Validation Loss: 0.2526\n",
            "Epoch 7, Training Loss: 0.29778289794921875, Validation Loss: 0.2461\n",
            "Epoch 8, Training Loss: 0.1894802749156952, Validation Loss: 0.2400\n",
            "Epoch 9, Training Loss: 0.2415497750043869, Validation Loss: 0.2341\n",
            "Epoch 10, Training Loss: 0.2713540494441986, Validation Loss: 0.2285\n",
            "Epoch 11, Training Loss: 0.2614954710006714, Validation Loss: 0.2230\n",
            "Epoch 12, Training Loss: 0.24509651958942413, Validation Loss: 0.2179\n",
            "Epoch 13, Training Loss: 0.15017668902873993, Validation Loss: 0.2129\n",
            "Epoch 14, Training Loss: 0.24572673439979553, Validation Loss: 0.2081\n",
            "Epoch 15, Training Loss: 0.1835087537765503, Validation Loss: 0.2035\n",
            "Epoch 16, Training Loss: 0.2241453230381012, Validation Loss: 0.1991\n",
            "Epoch 17, Training Loss: 0.22526641190052032, Validation Loss: 0.1948\n",
            "Epoch 18, Training Loss: 0.2188231498003006, Validation Loss: 0.1908\n",
            "Epoch 19, Training Loss: 0.13658586144447327, Validation Loss: 0.1869\n",
            "Epoch 20, Training Loss: 0.09411915391683578, Validation Loss: 0.1831\n",
            "Epoch 21, Training Loss: 0.14976100623607635, Validation Loss: 0.1795\n",
            "Epoch 22, Training Loss: 0.07287663221359253, Validation Loss: 0.1761\n",
            "Epoch 23, Training Loss: 0.10891469568014145, Validation Loss: 0.1727\n",
            "Epoch 24, Training Loss: 0.14394231140613556, Validation Loss: 0.1695\n",
            "Epoch 25, Training Loss: 0.1833842545747757, Validation Loss: 0.1665\n",
            "Epoch 26, Training Loss: 0.23944981396198273, Validation Loss: 0.1635\n",
            "Epoch 27, Training Loss: 0.0946257933974266, Validation Loss: 0.1606\n",
            "Epoch 28, Training Loss: 0.1519167274236679, Validation Loss: 0.1579\n",
            "Epoch 29, Training Loss: 0.1667482703924179, Validation Loss: 0.1553\n",
            "Epoch 30, Training Loss: 0.10985277593135834, Validation Loss: 0.1528\n",
            "Epoch 31, Training Loss: 0.129601389169693, Validation Loss: 0.1503\n",
            "Epoch 32, Training Loss: 0.13543041050434113, Validation Loss: 0.1480\n",
            "Epoch 33, Training Loss: 0.13133123517036438, Validation Loss: 0.1457\n",
            "Epoch 34, Training Loss: 0.12219361215829849, Validation Loss: 0.1435\n",
            "Epoch 35, Training Loss: 0.1145590990781784, Validation Loss: 0.1415\n",
            "Epoch 36, Training Loss: 0.15402600169181824, Validation Loss: 0.1394\n",
            "Epoch 37, Training Loss: 0.12133090198040009, Validation Loss: 0.1375\n",
            "Epoch 38, Training Loss: 0.10991628468036652, Validation Loss: 0.1356\n",
            "Epoch 39, Training Loss: 0.08935300260782242, Validation Loss: 0.1339\n",
            "Epoch 40, Training Loss: 0.23263399302959442, Validation Loss: 0.1321\n",
            "Epoch 41, Training Loss: 0.1609824150800705, Validation Loss: 0.1305\n",
            "Epoch 42, Training Loss: 0.13634182512760162, Validation Loss: 0.1289\n",
            "Epoch 43, Training Loss: 0.18069882690906525, Validation Loss: 0.1273\n",
            "Epoch 44, Training Loss: 0.06792976707220078, Validation Loss: 0.1258\n",
            "Epoch 45, Training Loss: 0.17176583409309387, Validation Loss: 0.1244\n",
            "Epoch 46, Training Loss: 0.08278108388185501, Validation Loss: 0.1230\n",
            "Epoch 47, Training Loss: 0.2101539671421051, Validation Loss: 0.1217\n",
            "Epoch 48, Training Loss: 0.11086802184581757, Validation Loss: 0.1204\n",
            "Epoch 49, Training Loss: 0.11461840569972992, Validation Loss: 0.1191\n",
            "Epoch 50, Training Loss: 0.14340424537658691, Validation Loss: 0.1180\n",
            "Epoch 51, Training Loss: 0.11674533039331436, Validation Loss: 0.1168\n",
            "Epoch 52, Training Loss: 0.047492615878582, Validation Loss: 0.1157\n",
            "Epoch 53, Training Loss: 0.0805453285574913, Validation Loss: 0.1146\n",
            "Epoch 54, Training Loss: 0.06644666194915771, Validation Loss: 0.1136\n",
            "Epoch 55, Training Loss: 0.04996351897716522, Validation Loss: 0.1126\n",
            "Epoch 56, Training Loss: 0.07025653123855591, Validation Loss: 0.1116\n",
            "Epoch 57, Training Loss: 0.12711381912231445, Validation Loss: 0.1107\n",
            "Epoch 58, Training Loss: 0.10244955867528915, Validation Loss: 0.1098\n",
            "Epoch 59, Training Loss: 0.08372454345226288, Validation Loss: 0.1090\n",
            "Epoch 60, Training Loss: 0.08756996691226959, Validation Loss: 0.1081\n",
            "Epoch 61, Training Loss: 0.08182207494974136, Validation Loss: 0.1073\n",
            "Epoch 62, Training Loss: 0.1396295130252838, Validation Loss: 0.1066\n",
            "Epoch 63, Training Loss: 0.10116994380950928, Validation Loss: 0.1058\n",
            "Epoch 64, Training Loss: 0.13307031989097595, Validation Loss: 0.1051\n",
            "Epoch 65, Training Loss: 0.09301964938640594, Validation Loss: 0.1044\n",
            "Epoch 66, Training Loss: 0.11590476334095001, Validation Loss: 0.1037\n",
            "Epoch 67, Training Loss: 0.08919034898281097, Validation Loss: 0.1031\n",
            "Epoch 68, Training Loss: 0.09709790349006653, Validation Loss: 0.1025\n",
            "Epoch 69, Training Loss: 0.1803382784128189, Validation Loss: 0.1019\n",
            "Epoch 70, Training Loss: 0.06795619428157806, Validation Loss: 0.1013\n",
            "Epoch 71, Training Loss: 0.09955982863903046, Validation Loss: 0.1007\n",
            "Epoch 72, Training Loss: 0.07990803569555283, Validation Loss: 0.1002\n",
            "Epoch 73, Training Loss: 0.01589992828667164, Validation Loss: 0.0997\n",
            "Epoch 74, Training Loss: 0.14189483225345612, Validation Loss: 0.0991\n",
            "Epoch 75, Training Loss: 0.08945717662572861, Validation Loss: 0.0987\n",
            "Epoch 76, Training Loss: 0.08755932748317719, Validation Loss: 0.0982\n",
            "Epoch 77, Training Loss: 0.05460713431239128, Validation Loss: 0.0977\n",
            "Epoch 78, Training Loss: 0.08930042386054993, Validation Loss: 0.0973\n",
            "Epoch 79, Training Loss: 0.05208545923233032, Validation Loss: 0.0969\n",
            "Epoch 80, Training Loss: 0.06843022257089615, Validation Loss: 0.0965\n",
            "Epoch 81, Training Loss: 0.05333661288022995, Validation Loss: 0.0961\n",
            "Epoch 82, Training Loss: 0.05328398942947388, Validation Loss: 0.0957\n",
            "Epoch 83, Training Loss: 0.04871384799480438, Validation Loss: 0.0953\n",
            "Epoch 84, Training Loss: 0.04910764470696449, Validation Loss: 0.0949\n",
            "Epoch 85, Training Loss: 0.07784300297498703, Validation Loss: 0.0946\n",
            "Epoch 86, Training Loss: 0.09718272089958191, Validation Loss: 0.0943\n",
            "Epoch 87, Training Loss: 0.10128170251846313, Validation Loss: 0.0939\n",
            "Epoch 88, Training Loss: 0.09570202231407166, Validation Loss: 0.0936\n",
            "Epoch 89, Training Loss: 0.0935833603143692, Validation Loss: 0.0933\n",
            "Epoch 90, Training Loss: 0.08178351819515228, Validation Loss: 0.0930\n",
            "Epoch 91, Training Loss: 0.10533116012811661, Validation Loss: 0.0928\n",
            "Epoch 92, Training Loss: 0.0987696573138237, Validation Loss: 0.0925\n",
            "Epoch 93, Training Loss: 0.09838660806417465, Validation Loss: 0.0922\n",
            "Epoch 94, Training Loss: 0.08322130143642426, Validation Loss: 0.0920\n",
            "Epoch 95, Training Loss: 0.07166687399148941, Validation Loss: 0.0917\n",
            "Epoch 96, Training Loss: 0.11747749149799347, Validation Loss: 0.0915\n",
            "Epoch 97, Training Loss: 0.09424303472042084, Validation Loss: 0.0912\n",
            "Epoch 98, Training Loss: 0.13853053748607635, Validation Loss: 0.0910\n",
            "Epoch 99, Training Loss: 0.08237268775701523, Validation Loss: 0.0908\n",
            "Epoch 100, Training Loss: 0.053097229450941086, Validation Loss: 0.0906\n"
          ]
        },
        {
          "output_type": "execute_result",
          "data": {
            "text/plain": [
              "<matplotlib.legend.Legend at 0x7a686c4cd090>"
            ]
          },
          "metadata": {},
          "execution_count": 27
        },
        {
          "output_type": "display_data",
          "data": {
            "text/plain": [
              "<Figure size 640x480 with 1 Axes>"
            ],
            "image/png": "[encoded data removed]"
          },
          "metadata": {}
        }
      ]
    },
    {
      "cell_type": "markdown",
      "source": [
        "## Moving to GPU\n",
        "If you have access to a GPU, you can move tensors and models to the GPU to speed up training."
      ],
      "metadata": {
        "id": "Cd1uspu5m5RB"
      }
    },
    {
      "cell_type": "code",
      "source": [
        "# Check if GPU is available\n",
        "device = torch.device(\"cuda\" if torch.cuda.is_available() else \"cpu\")\n",
        "\n",
        "# Move model and data to GPU\n",
        "model.to(device)\n",
        "print(model)\n",
        "inputs, targets = inputs.to(device), targets.to(device)\n",
        "\n",
        "# GPU memory or VRAM should be higher -> you can use a higher batch size\n"
      ],
      "metadata": {
        "id": "KqPd5kDTm9ac"
      },
      "execution_count": null,
      "outputs": []
    },
    {
      "cell_type": "markdown",
      "source": [
        "## Example of an Image Dataloader"
      ],
      "metadata": {
        "id": "6cniKEyR290J"
      }
    },
    {
      "cell_type": "code",
      "source": [
        "# An example of an image dataloader\n",
        "from PIL import Image\n",
        "from torch.utils.data import Dataset\n",
        "from torchvision import transforms\n",
        "\n",
        "# This inherits from the Dataset subclass\n",
        "class CustomDataset(Dataset):\n",
        "    def __init__(self, img_list, labels, transform=transforms.ToTensor()):\n",
        "        self.img_list = img_list # Input image paths\n",
        "        self.labels = labels # Corresponding ground truth labels\n",
        "        self.transform = transform # Preprocessing transform\n",
        "\n",
        "    def __len__(self):\n",
        "        return len(self.img_list) # Returns the total number of training samples\n",
        "\n",
        "    def __getitem__(self, idx):\n",
        "        x = Image.open(self.img_list[idx]) # Opening the image from its path\n",
        "        if x.mode != 'RGB':\n",
        "            x = x.convert('RGB') # Convert the image to RGB if it's not\n",
        "        x = self.transform(x) # Apply the transform\n",
        "        label = self.labels[idx] # Get the label for the image\n",
        "        return x , label"
      ],
      "metadata": {
        "id": "9cortVVk3GHM"
      },
      "execution_count": null,
      "outputs": []
    },
    {
      "cell_type": "markdown",
      "source": [
        "## Summary\n",
        "\n",
        "We have the following key ingredients for training and testing a neural network using PyTorch:\n",
        "\n",
        "1. **Data Preparation and Dataloading**: The training data must be arranged into inputs (preprocessed if required) and labels, preferable a list of inputs with their corresponding labels. The Dataset class of PyTorch helps use set parameters such as batch size. If the input data consists of images, then ```scikit-image```, ```PIL``` and ```opencv``` are popular python packages that will allow us to read and save images.\n",
        "\n",
        "2. **Model Definition**: The next step is to define the neural network and specify the layers contained in the network (fully connected or convolutional layers). This should preferably defined as a python class using the ```nn.Module``` subclass offered by PyTorch.\n",
        "\n",
        "3. **Optimizer and Loss Functions**: This is the most important part of training. We must choose an optimizer to perform backpropagation in the neural network. The most basic optimizer is the stochastic gradient descent (SGD) algorithm, but there are more advanced optimizers such as Adam, which is the most popular gradient descent algorithm now! The next step is to design a loss function that suits the problem we are trying to solve. For a regression problem (the one shown in this notebook), we may want to use a loss function like ```nn.MSELoss()``` which is the mean squared error loss. For a classification problem, the cross entropy loss ```nn.CrossEntropyLoss()``` would be more useful.  \n",
        "\n",
        "4. **Training Loop**: Finally, we need to write a training loop that samples a batch of random samples using the dataloader that we defined, and perform backpropagation for this batch of data. Don't forget the three most important lines of code that actually do the training (update the network weights)! We would also like to monitor our training, and for this, we may choose to test our model after some fixed number of epochs on a validation set to decide how many epochs of training are actually required for our application.\n",
        "\n",
        "## Conclusion\n",
        "\n",
        "In this notebook, we've introduced the basics of PyTorch, including tensors, autograd, neural networks, and training loops. With these fundamentals, you're now ready to explore deeper into building more complex models using PyTorch. More advanced models include transformers, diffusion models, and many popular generative models such as GANs and VAEs.\n",
        "\n",
        "Happy training! :)"
      ],
      "metadata": {
        "id": "US-Ljwt5nADk"
      }
    }
  ]
}